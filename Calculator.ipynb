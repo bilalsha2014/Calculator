{
 "cells": [
  {
   "cell_type": "code",
   "execution_count": 2,
   "metadata": {},
   "outputs": [
    {
     "name": "stdout",
     "output_type": "stream",
     "text": [
      "< Welcome to Python Calculator > \n",
      " \n",
      " 1.Additon \n",
      " 2.Subtraction \n",
      " 3.Multiplication \n",
      " 4.Division\n",
      "Select Operation: DiviSion\n",
      "Enter First Number: 4\n",
      "Enter Second Number: 7\n",
      "Result: 0.5714285714285714\n"
     ]
    }
   ],
   "source": [
    "print(\"< Welcome to Python Calculator > \\n \\n 1.Additon \\n 2.Subtraction \\n 3.Multiplication \\n 4.Division\")\n",
    "#Welcome Message with Select Operation details\n",
    "\n",
    "Operation=input(\"Select Operation: \")\n",
    "#Taking input from the user to perform mentioned operations\n",
    "\n",
    "Operation=Operation.title()\n",
    "#it will Proper case user input to avoid any case sensitive issues\n",
    "\n",
    "if Operation==\"Addition\" or Operation==\"Subtraction\" or Operation==\"Multiplication\" or Operation==\"Division\":\n",
    "#Check if the user has input the correct Operation from the list\n",
    "\n",
    "    Number1=int(input(\"Enter First Number: \"))\n",
    "#User will input first Number\n",
    "\n",
    "    Number2=int(input(\"Enter Second Number: \"))\n",
    "#User will input Second Number\n",
    "\n",
    "    if Operation==\"Addition\":\n",
    "        print(\"Result:\",Number1+Number2)\n",
    "#If condition is true run Addition and output results\n",
    "\n",
    "    elif Operation==\"Subtraction\":\n",
    "        print(\"Result:\",Number1-Number2)\n",
    "#If condition is true run Subtraction and output results\n",
    "\n",
    "    elif Operation==\"Multiplication\":\n",
    "        print(\"Result:\",Number1*Number2)\n",
    "#If condition is true run Multiplication and output results\n",
    "\n",
    "    elif Operation==\"Division\":\n",
    "        print(\"Result:\",Number1/Number2)\n",
    "#If condition is true run Division and output results\n",
    "\n",
    "else:\n",
    "    print(\"Please write a correct Operation out of the above List\")\n",
    "    exit()\n",
    "#If none of the above operations are mentioned  print an incorrect operation enter message\n",
    "\n",
    "\n"
   ]
  },
  {
   "cell_type": "code",
   "execution_count": null,
   "metadata": {},
   "outputs": [],
   "source": []
  },
  {
   "cell_type": "code",
   "execution_count": null,
   "metadata": {},
   "outputs": [],
   "source": []
  }
 ],
 "metadata": {
  "kernelspec": {
   "display_name": "Python 3",
   "language": "python",
   "name": "python3"
  },
  "language_info": {
   "codemirror_mode": {
    "name": "ipython",
    "version": 3
   },
   "file_extension": ".py",
   "mimetype": "text/x-python",
   "name": "python",
   "nbconvert_exporter": "python",
   "pygments_lexer": "ipython3",
   "version": "3.7.1"
  }
 },
 "nbformat": 4,
 "nbformat_minor": 2
}
